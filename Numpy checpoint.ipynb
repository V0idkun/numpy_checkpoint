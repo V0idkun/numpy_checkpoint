{
 "cells": [
  {
   "cell_type": "code",
   "execution_count": 1,
   "id": "ea10ab82-7706-4010-aa09-95120aef1ce5",
   "metadata": {},
   "outputs": [],
   "source": [
    "import numpy as np"
   ]
  },
  {
   "cell_type": "code",
   "execution_count": 4,
   "id": "32086e28-2dbe-418a-b83d-c483bda70b74",
   "metadata": {},
   "outputs": [],
   "source": [
    "grades = np.array([85, 90, 88, 92, 95, 80, 75, 98, 89, 83])"
   ]
  },
  {
   "cell_type": "code",
   "execution_count": 5,
   "id": "8aa0a9ca-f518-42d4-8d90-19184c046321",
   "metadata": {},
   "outputs": [
    {
     "data": {
      "text/plain": [
       "np.float64(87.5)"
      ]
     },
     "execution_count": 5,
     "metadata": {},
     "output_type": "execute_result"
    }
   ],
   "source": [
    "np.mean(grades)"
   ]
  },
  {
   "cell_type": "code",
   "execution_count": 6,
   "id": "5412c885-7c74-4ddb-813a-e0131b9089a5",
   "metadata": {},
   "outputs": [
    {
     "data": {
      "text/plain": [
       "np.float64(88.5)"
      ]
     },
     "execution_count": 6,
     "metadata": {},
     "output_type": "execute_result"
    }
   ],
   "source": [
    "np.median(grades)"
   ]
  },
  {
   "cell_type": "code",
   "execution_count": 7,
   "id": "105fd7e3-1611-42e0-8ff2-bad9bbddf5ad",
   "metadata": {},
   "outputs": [
    {
     "data": {
      "text/plain": [
       "np.float64(6.591661399070799)"
      ]
     },
     "execution_count": 7,
     "metadata": {},
     "output_type": "execute_result"
    }
   ],
   "source": [
    "np.std(grades)"
   ]
  },
  {
   "cell_type": "code",
   "execution_count": 8,
   "id": "7a18f4ba-b379-4cc7-806b-b706caf934a4",
   "metadata": {},
   "outputs": [
    {
     "data": {
      "text/plain": [
       "np.int64(98)"
      ]
     },
     "execution_count": 8,
     "metadata": {},
     "output_type": "execute_result"
    }
   ],
   "source": [
    "np.max(grades)"
   ]
  },
  {
   "cell_type": "code",
   "execution_count": 9,
   "id": "526f0780-785d-4d1d-9c55-3da0d8a999bc",
   "metadata": {},
   "outputs": [
    {
     "data": {
      "text/plain": [
       "np.int64(75)"
      ]
     },
     "execution_count": 9,
     "metadata": {},
     "output_type": "execute_result"
    }
   ],
   "source": [
    "np.min(grades)"
   ]
  },
  {
   "cell_type": "code",
   "execution_count": 10,
   "id": "852f5792-de80-497b-96a3-70281b40184a",
   "metadata": {},
   "outputs": [
    {
     "data": {
      "text/plain": [
       "array([75, 80, 83, 85, 88, 89, 90, 92, 95, 98])"
      ]
     },
     "execution_count": 10,
     "metadata": {},
     "output_type": "execute_result"
    }
   ],
   "source": [
    "np.sort(grades)"
   ]
  },
  {
   "cell_type": "code",
   "execution_count": 11,
   "id": "0f9d0a6f-edaa-4233-8aec-beb963da2fc4",
   "metadata": {},
   "outputs": [
    {
     "name": "stdout",
     "output_type": "stream",
     "text": [
      "98\n"
     ]
    }
   ],
   "source": [
    "slices = grades[-3]\n",
    "print(slices)"
   ]
  },
  {
   "cell_type": "code",
   "execution_count": 13,
   "id": "cf6745c6-629a-44ee-8eb2-53bb9fe1fb03",
   "metadata": {},
   "outputs": [
    {
     "data": {
      "text/plain": [
       "np.int64(3)"
      ]
     },
     "execution_count": 13,
     "metadata": {},
     "output_type": "execute_result"
    }
   ],
   "source": [
    "np.sum(grades>90)"
   ]
  },
  {
   "cell_type": "code",
   "execution_count": 22,
   "id": "1605c29f-34d3-4dd5-80ee-3368197d52ae",
   "metadata": {},
   "outputs": [
    {
     "data": {
      "text/plain": [
       "np.float64(30.0)"
      ]
     },
     "execution_count": 22,
     "metadata": {},
     "output_type": "execute_result"
    }
   ],
   "source": [
    "np.mean(grades>90)*100"
   ]
  },
  {
   "cell_type": "code",
   "execution_count": 23,
   "id": "fc668f32-b6b2-41b0-8178-2ec3aa8f29f8",
   "metadata": {},
   "outputs": [
    {
     "data": {
      "text/plain": [
       "np.float64(0.0)"
      ]
     },
     "execution_count": 23,
     "metadata": {},
     "output_type": "execute_result"
    }
   ],
   "source": [
    "np.mean(grades<75)*100"
   ]
  },
  {
   "cell_type": "code",
   "execution_count": 27,
   "id": "e3215201-1954-4c56-8cf6-88ae9402dc55",
   "metadata": {},
   "outputs": [
    {
     "name": "stdout",
     "output_type": "stream",
     "text": [
      "[92 95 98]\n"
     ]
    }
   ],
   "source": [
    "high_performer = grades[grades>90]\n",
    "print(high_performer)"
   ]
  },
  {
   "cell_type": "code",
   "execution_count": 32,
   "id": "5453198e-c50c-447f-8fd8-ab77581db4d5",
   "metadata": {},
   "outputs": [
    {
     "name": "stdout",
     "output_type": "stream",
     "text": [
      "[85 90 88 92 95 80 98 89 83]\n"
     ]
    }
   ],
   "source": [
    "passing_grades = grades[grades>75]\n",
    "print(passing_grades)"
   ]
  },
  {
   "cell_type": "code",
   "execution_count": null,
   "id": "9e4dbe5b-d9f0-4e44-be55-ae78e6433be9",
   "metadata": {},
   "outputs": [],
   "source": []
  }
 ],
 "metadata": {
  "kernelspec": {
   "display_name": "Python 3 (ipykernel)",
   "language": "python",
   "name": "python3"
  },
  "language_info": {
   "codemirror_mode": {
    "name": "ipython",
    "version": 3
   },
   "file_extension": ".py",
   "mimetype": "text/x-python",
   "name": "python",
   "nbconvert_exporter": "python",
   "pygments_lexer": "ipython3",
   "version": "3.13.2"
  }
 },
 "nbformat": 4,
 "nbformat_minor": 5
}
